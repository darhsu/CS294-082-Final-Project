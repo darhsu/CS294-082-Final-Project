{
  "nbformat": 4,
  "nbformat_minor": 0,
  "metadata": {
    "colab": {
      "name": "Multimedia_Final_Project.ipynb",
      "provenance": [],
      "collapsed_sections": []
    },
    "kernelspec": {
      "name": "python3",
      "display_name": "Python 3"
    },
    "language_info": {
      "name": "python"
    }
  },
  "cells": [
    {
      "cell_type": "markdown",
      "source": [
        "Imports"
      ],
      "metadata": {
        "id": "F08pTQ8sPY65"
      }
    },
    {
      "cell_type": "code",
      "source": [
        "from PIL import Image, ImageDraw\n",
        "import os\n",
        "from skimage.transform import resize\n",
        "from skimage.io import imread\n",
        "import numpy as np\n",
        "import matplotlib.pyplot as plt\n",
        "import pandas as pd\n",
        "from sklearn.metrics import classification_report,accuracy_score,confusion_matrix\n",
        "\n",
        "%matplotlib inline\n",
        "%config InlineBackend.figure_format = 'retina'\n",
        "import torch\n",
        "from torch import nn\n",
        "from torch import optim\n",
        "import torch.nn.functional as F\n",
        "from torchvision import datasets, transforms, models\n",
        "import re"
      ],
      "metadata": {
        "id": "HtvdgNB5NF6R"
      },
      "execution_count": null,
      "outputs": []
    },
    {
      "cell_type": "markdown",
      "source": [
        "# Part 1: Dataset generation"
      ],
      "metadata": {
        "id": "S_6KZbFJRzcR"
      }
    },
    {
      "cell_type": "markdown",
      "source": [
        "Load retinal image"
      ],
      "metadata": {
        "id": "SOKju-oKPcBl"
      }
    },
    {
      "cell_type": "code",
      "source": [
        "# Opens a image in RGB mode\n",
        "im = Image.open(r\"20205_map.png\")\n",
        "\n",
        "# Size of the image in pixels (size of original image)\n",
        "width, height = im.size\n",
        "\n",
        "im_rgb = im.convert('RGB')\n",
        "im_mean = np.mean(im_rgb, axis=(0,1))/255\n",
        "im_std = np.std(im_rgb, axis=(0,1))/255"
      ],
      "metadata": {
        "id": "H-WWU8vbNIGL"
      },
      "execution_count": null,
      "outputs": []
    },
    {
      "cell_type": "markdown",
      "source": [
        "Generate cropped images"
      ],
      "metadata": {
        "id": "807fez7lPgiY"
      }
    },
    {
      "cell_type": "code",
      "source": [
        "# patch_size: is square\n",
        "# stride: is the number of pixels to skip \n",
        "def crop_and_save(image, patch_size, stride, class_number, path):\n",
        "    im_width, im_height = image.size\n",
        "    height_patches = (im_height - patch_size) // stride + 1\n",
        "    width_patches = (im_width - patch_size) // stride + 1\n",
        "    path += \"{}/20205_map_class{}_{}.png\"\n",
        "\n",
        "    count = 0\n",
        "    for i in range(height_patches): # height\n",
        "        for j in range(width_patches): # width\n",
        "        # ((left, top), (right, bottom))\n",
        "            im = image.crop((j * stride, i * stride, patch_size + j * stride, patch_size + i * stride))\n",
        "            im.save(path.format(class_number, class_number, count))\n",
        "            count += 1"
      ],
      "metadata": {
        "id": "1ovVF1srNjMv"
      },
      "execution_count": null,
      "outputs": []
    },
    {
      "cell_type": "code",
      "source": [
        "data_dir = '/home/darrenhsu/Color/data_2/'\n",
        "patch_size = 100\n",
        "stride = 10\n",
        "\n",
        "# Class 0, left\n",
        "class0_im = im.crop((0,0,500,1000))\n",
        "crop_and_save(class0_im, patch_size, stride, 0, data_dir)\n",
        "# Class 1, right\n",
        "class1_im = im.crop((500,0,1000,1000))\n",
        "crop_and_save(class1_im, patch_size, stride, 1, data_dir)"
      ],
      "metadata": {
        "id": "4WdbaWlwNkAm"
      },
      "execution_count": null,
      "outputs": []
    },
    {
      "cell_type": "markdown",
      "source": [
        "Custom PyTorch Dataloader that includes datafile paths"
      ],
      "metadata": {
        "id": "2aNG1bYkSvuN"
      }
    },
    {
      "cell_type": "code",
      "source": [
        "#https://discuss.pytorch.org/t/dataloader-filenames-in-each-batch/4212/2\n",
        "class ImageFolderWithPaths(datasets.ImageFolder):\n",
        "    \"\"\"Custom dataset that includes image file paths. Extends\n",
        "    torchvision.datasets.ImageFolder\n",
        "    \"\"\"\n",
        "\n",
        "    # override the __getitem__ method. this is the method that dataloader calls\n",
        "    def __getitem__(self, index):\n",
        "        # this is what ImageFolder normally returns \n",
        "        original_tuple = super(ImageFolderWithPaths, self).__getitem__(index)\n",
        "        # the image file path\n",
        "        path = self.imgs[index][0]\n",
        "        # make a new tuple that includes original and the path\n",
        "        tuple_with_path = (original_tuple + (path,))\n",
        "        return tuple_with_path"
      ],
      "metadata": {
        "id": "rKwS1AaeNyDE"
      },
      "execution_count": null,
      "outputs": []
    },
    {
      "cell_type": "markdown",
      "source": [
        "Load dataset and perform train test split"
      ],
      "metadata": {
        "id": "F0ifGBxSS1u9"
      }
    },
    {
      "cell_type": "code",
      "source": [
        "def load_split_train_test(datadir, valid_size = .2):\n",
        "    train_transforms = transforms.Compose([#transforms.RandomRotation(30),  # data augmentations are great\n",
        "                                       #transforms.RandomResizedCrop(224),  # but not in this case of map tiles\n",
        "                                       #transforms.RandomHorizontalFlip(),\n",
        "                                       transforms.Resize(224),\n",
        "                                       transforms.ToTensor(),\n",
        "                                       transforms.Normalize(im_mean,im_std)\n",
        "                                       #transforms.Normalize([0.485, 0.456, 0.406], # PyTorch recommends these but in this\n",
        "                                       #                     [0.229, 0.224, 0.225]) # case I didn't get good results\n",
        "                                       ])\n",
        "\n",
        "    test_transforms = transforms.Compose([transforms.Resize(224),\n",
        "                                      transforms.ToTensor(),\n",
        "                                      transforms.Normalize(im_mean,im_std)\n",
        "                                      #transforms.Normalize([0.485, 0.456, 0.406],\n",
        "                                      #                     [0.229, 0.224, 0.225])\n",
        "                                      ])\n",
        "\n",
        "    train_data = ImageFolderWithPaths(datadir, transform=train_transforms)\n",
        "    test_data = ImageFolderWithPaths(datadir, transform=test_transforms)\n",
        "\n",
        "    num_train = len(train_data)\n",
        "    indices = list(range(num_train))\n",
        "    split = int(np.floor(valid_size * num_train))\n",
        "    np.random.shuffle(indices)\n",
        "    from torch.utils.data.sampler import SubsetRandomSampler\n",
        "    train_idx, test_idx = indices[split:], indices[:split]\n",
        "    train_sampler = SubsetRandomSampler(train_idx)\n",
        "    test_sampler = SubsetRandomSampler(test_idx)\n",
        "    trainloader = torch.utils.data.DataLoader(train_data, sampler=train_sampler, batch_size=64)\n",
        "    testloader = torch.utils.data.DataLoader(test_data, sampler=test_sampler, batch_size=64)\n",
        "    return trainloader, testloader\n",
        "\n",
        "trainloader, testloader = load_split_train_test(data_dir, .2)\n",
        "print(trainloader.dataset.classes)"
      ],
      "metadata": {
        "id": "b4ipdlZYNzRy"
      },
      "execution_count": null,
      "outputs": []
    },
    {
      "cell_type": "markdown",
      "source": [
        "Build pretrained ResNet model"
      ],
      "metadata": {
        "id": "xa4wuOXOS-VJ"
      }
    },
    {
      "cell_type": "code",
      "source": [
        "# Load ResNet model\n",
        "device = torch.device(\"cuda\" if torch.cuda.is_available() else \"cpu\")\n",
        "model = models.resnet50(pretrained=True)\n",
        "\n",
        "# Remove last softmax layer for deep feature extraction\n",
        "model = torch.nn.Sequential(*(list(model.children())[:-1]))\n",
        "model.to(device)"
      ],
      "metadata": {
        "id": "Ff9AdkAPOup6"
      },
      "execution_count": null,
      "outputs": []
    },
    {
      "cell_type": "code",
      "source": [
        "flat_data_arr=[] #input array\n",
        "target_arr=[] #output array"
      ],
      "metadata": {
        "id": "SW6K2zmiPDnU"
      },
      "execution_count": null,
      "outputs": []
    },
    {
      "cell_type": "markdown",
      "source": [
        "Generate deepfeatures from ResNet model"
      ],
      "metadata": {
        "id": "4xkMGsvITFys"
      }
    },
    {
      "cell_type": "code",
      "source": [
        "# Generate deep features from ResNet model by forward pass\n",
        "def image_feature_loader(dataloader):\n",
        "    for inputs, labels, _ in dataloader:\n",
        "        logps = model.forward(inputs.to(device))\n",
        "        for i in range(len(labels)):\n",
        "            flat_data_arr.append(np.array(logps[:,:,0,0][i].cpu().detach()))\n",
        "            target_arr.append(np.array(labels[i].cpu().detach()))\n",
        "\n",
        "\n",
        "image_feature_loader(trainloader)\n",
        "image_feature_loader(testloader)"
      ],
      "metadata": {
        "id": "pfe-WDlhPFDw"
      },
      "execution_count": null,
      "outputs": []
    },
    {
      "cell_type": "code",
      "source": [
        "# Load data into dataframe and save \n",
        "flat_data=np.array(flat_data_arr)\n",
        "target=np.array(target_arr)\n",
        "df=pd.DataFrame(flat_data) #dataframe\n",
        "df['Target']=target"
      ],
      "metadata": {
        "id": "ZUf6_C0QPFlR"
      },
      "execution_count": null,
      "outputs": []
    },
    {
      "cell_type": "code",
      "source": [
        "# Save df to csv\n",
        "df.to_csv('deepfeature_2class.csv', index=False)"
      ],
      "metadata": {
        "id": "GcUsAUqAPwHg"
      },
      "execution_count": null,
      "outputs": []
    },
    {
      "cell_type": "code",
      "source": [
        "#Used to generate train and test files, which are attached in submission\n",
        "from sklearn.model_selection import train_test_split\n",
        "\n",
        "data = pd.read_csv(\"deepfeature_2class.csv\")\n",
        "X = data.iloc[:,:-1]\n",
        "y = data.iloc[:,-1]\n",
        "X_train, X_test, y_train, y_test = train_test_split(X, y, test_size=0.2, random_state=82)\n",
        "pd.concat([X_train, y_train], axis=1).to_csv(\"retina_data_train.csv\")\n",
        "pd.concat([X_test, y_test], axis=1).to_csv(\"retina_data_test.csv\")"
      ],
      "metadata": {
        "id": "jrI_Z7Yftx53"
      },
      "execution_count": null,
      "outputs": []
    },
    {
      "cell_type": "markdown",
      "source": [
        "# Part 2: MEC Calculation "
      ],
      "metadata": {
        "id": "skwvn8ClSmOT"
      }
    },
    {
      "cell_type": "markdown",
      "source": [
        "Memory Equivalent Capacity as a Dictionary"
      ],
      "metadata": {
        "id": "049KocHCf6rx"
      }
    },
    {
      "cell_type": "code",
      "source": [
        "import pandas as pd\n",
        "import math \n",
        "\n",
        "df = pd.read_csv(\"retina_data_train.csv\")\n",
        "thresholds = 0\n",
        "df[\"feature_sum\"] = df.iloc[:,:-1].sum(axis=1)\n",
        "df = df.sort_values(by=\"feature_sum\")\n",
        "cls = 0\n",
        "for label in df[\"Target\"]:\n",
        "  if label != cls:\n",
        "    thresholds += 1\n",
        "    cls = label\n",
        "\n",
        "print(\"There are\", thresholds, \"thresholds in the dataset\")\n",
        "print(\"This translates to a dataset MEC of\", math.log(thresholds, 2) * 2048, \"bits\")"
      ],
      "metadata": {
        "colab": {
          "base_uri": "https://localhost:8080/"
        },
        "id": "1yZq7PqALTzI",
        "outputId": "26be9bec-4550-4242-ed45-04f03f8f415c"
      },
      "execution_count": null,
      "outputs": [
        {
          "output_type": "stream",
          "name": "stdout",
          "text": [
            "There are 2952 thresholds in the dataset\n",
            "This translates to a dataset MEC of 23608.27290841169 bits\n"
          ]
        }
      ]
    },
    {
      "cell_type": "markdown",
      "source": [
        "### Capacity Plot "
      ],
      "metadata": {
        "id": "jywayvTV_1uz"
      }
    },
    {
      "cell_type": "code",
      "source": [
        "import matplotlib.pyplot as plt\n",
        "import numpy as np\n",
        "\n",
        "plt.plot([5,10,20,40,80,100], np.asarray([9,10,11,11,12,12]) * 2048);\n",
        "plt.title(\"Capacity Progression\")\n",
        "plt.xlabel(\"% of Training Data\")\n",
        "plt.ylabel(\"MEC (bits)\");"
      ],
      "metadata": {
        "colab": {
          "base_uri": "https://localhost:8080/",
          "height": 295
        },
        "id": "M8XwvrRpH9TZ",
        "outputId": "186430e5-7f47-4c88-e78a-353a21e8cbd7"
      },
      "execution_count": null,
      "outputs": [
        {
          "output_type": "display_data",
          "data": {
            "image/png": "[encoded data removed]",
            "text/plain": [
              "<Figure size 432x288 with 1 Axes>"
            ]
          },
          "metadata": {
            "needs_background": "light"
          }
        }
      ]
    },
    {
      "cell_type": "markdown",
      "source": [
        "### Training for memorization"
      ],
      "metadata": {
        "id": "NkFshNmf-NoR"
      }
    },
    {
      "cell_type": "code",
      "source": [
        "from sklearn.neural_network import MLPClassifier\n",
        "\n",
        "data = pd.read_csv(\"retina_data_train.csv\")\n",
        "X = data.iloc[:,:-1]\n",
        "y = data.iloc[:,-1]\n",
        "clf = MLPClassifier(\n",
        "                hidden_layer_sizes=(12,), random_state=42,\n",
        "                activation='relu')\n",
        "clf.fit(X,y)\n",
        "(clf.predict(X) == y).sum() / len(y)"
      ],
      "metadata": {
        "colab": {
          "base_uri": "https://localhost:8080/"
        },
        "id": "7VEyZXtlDFvT",
        "outputId": "bd957d36-c3e2-4e30-da80-835618b53ccb"
      },
      "execution_count": null,
      "outputs": [
        {
          "output_type": "stream",
          "name": "stderr",
          "text": [
            "/usr/local/lib/python3.7/dist-packages/sklearn/neural_network/_multilayer_perceptron.py:696: ConvergenceWarning: Stochastic Optimizer: Maximum iterations (200) reached and the optimization hasn't converged yet.\n",
            "  ConvergenceWarning,\n"
          ]
        },
        {
          "output_type": "execute_result",
          "data": {
            "text/plain": [
              "0.9921259842519685"
            ]
          },
          "metadata": {},
          "execution_count": 28
        }
      ]
    },
    {
      "cell_type": "markdown",
      "source": [
        "### Training for generalization"
      ],
      "metadata": {
        "id": "8BuiV9E8PeKQ"
      }
    },
    {
      "cell_type": "code",
      "source": [
        "#KEEP\n",
        "import pandas as pd\n",
        "from sklearn.neural_network import MLPClassifier\n",
        "from sklearn.model_selection import train_test_split\n",
        "\n",
        "data = pd.read_csv(\"retina_data_train.csv\")\n",
        "X = data.iloc[:,:-1]\n",
        "y = data.iloc[:,-1]\n",
        "X_train, X_val, y_train, y_val = train_test_split(X, y, test_size=0.2)\n",
        "train_accuracy_list = []\n",
        "val_accuracy_list = []\n",
        "\n",
        "for hidden_size in range(1,13):\n",
        "  print(\"Now training + evaluating on hidden size\", hidden_size)\n",
        "  clf = MLPClassifier(hidden_layer_sizes=hidden_size, max_iter=500)\n",
        "  clf.fit(X_train,y_train)\n",
        "  train_accuracy_list.append((clf.predict(X_train) == y_train).sum() / len(y_train))\n",
        "  val_accuracy_list.append((clf.predict(X_val) == y_val).sum() / len(y_val))\n",
        "\n",
        "print(train_accuracy_list)\n",
        "print(val_accuracy_list)"
      ],
      "metadata": {
        "colab": {
          "base_uri": "https://localhost:8080/"
        },
        "id": "mDdwBz3BMJwL",
        "outputId": "1eca2643-87d4-4e1b-c023-b4d4a52b1c2b"
      },
      "execution_count": null,
      "outputs": [
        {
          "output_type": "stream",
          "name": "stdout",
          "text": [
            "Now training + evaluating on hidden size 1\n",
            "Now training + evaluating on hidden size 2\n",
            "Now training + evaluating on hidden size 3\n",
            "Now training + evaluating on hidden size 4\n",
            "Now training + evaluating on hidden size 5\n",
            "Now training + evaluating on hidden size 6\n",
            "Now training + evaluating on hidden size 7\n",
            "Now training + evaluating on hidden size 8\n",
            "Now training + evaluating on hidden size 9\n",
            "Now training + evaluating on hidden size 10\n",
            "Now training + evaluating on hidden size 11\n",
            "Now training + evaluating on hidden size 12\n",
            "[0.49905759162303664, 0.5009424083769634, 0.956020942408377, 0.9566492146596859, 0.9627225130890052, 0.5009424083769634, 0.9673298429319371, 0.9522513089005236, 0.9421989528795811, 0.9470157068062828, 0.947434554973822, 0.9505759162303665]\n",
            "[0.5150753768844221, 0.4849246231155779, 0.9271356783919598, 0.9279731993299832, 0.932998324958124, 0.4849246231155779, 0.9338358458961474, 0.9321608040201005, 0.9229480737018425, 0.9296482412060302, 0.9212730318257957, 0.9221105527638191]\n"
          ]
        }
      ]
    },
    {
      "cell_type": "code",
      "source": [
        "graph, plot = plt.subplots()\n",
        "plt.plot(list(range(250,250*13, 250)), train_accuracy_list, label=\"Train\")\n",
        "plt.plot(list(range(250,250*13, 250)), val_accuracy_list, label=\"Valid\")\n",
        "plt.axvline(x=3*250, color='black', label=\"N_Approx\")\n",
        "plt.legend()\n",
        "plot.invert_xaxis()\n",
        "plt.xlabel(\"Model MEC (bits)\")\n",
        "plt.ylabel(\"Accuracy\")\n",
        "plt.title(\"Training for Generalization\")"
      ],
      "metadata": {
        "colab": {
          "base_uri": "https://localhost:8080/",
          "height": 312
        },
        "id": "ao78QNn3MANe",
        "outputId": "fa646846-3d61-4647-d76b-7dc10a9c3dd6"
      },
      "execution_count": null,
      "outputs": [
        {
          "output_type": "execute_result",
          "data": {
            "text/plain": [
              "Text(0.5, 1.0, 'Training for Generalization')"
            ]
          },
          "metadata": {},
          "execution_count": 14
        },
        {
          "output_type": "display_data",
          "data": {
            "image/png": "[encoded data removed]",
            "text/plain": [
              "<Figure size 432x288 with 1 Axes>"
            ]
          },
          "metadata": {
            "needs_background": "light"
          }
        }
      ]
    },
    {
      "cell_type": "code",
      "source": [
        "#KEEP\n",
        "import pandas as pd\n",
        "from sklearn.neural_network import MLPClassifier\n",
        "from sklearn.model_selection import train_test_split\n",
        "\n",
        "data = pd.read_csv(\"retina_data_train.csv\")\n",
        "X = data.iloc[:,:-1]\n",
        "y = data.iloc[:,-1]\n",
        "\n",
        "clf = MLPClassifier(hidden_layer_sizes=(3,), max_iter=500)\n",
        "clf.fit(X,y)\n",
        "num_correct = (clf.predict(X) == y).sum()\n",
        "acc = num_correct  / len(y)\n",
        "print(\"The training accuracy after choosing the hidden layer size is\", acc)\n",
        "print(\"The generalization after choosing the hidden layer size is\", num_correct / (2050*3))"
      ],
      "metadata": {
        "colab": {
          "base_uri": "https://localhost:8080/"
        },
        "id": "pKCmvNfbJm6-",
        "outputId": "d8cd464b-18a8-4a4b-e03a-c960a41c6321"
      },
      "execution_count": null,
      "outputs": [
        {
          "output_type": "stream",
          "name": "stdout",
          "text": [
            "The training accuracy after choosing the hidden layer size is 0.9484000670129\n",
            "The generalization after choosing the hidden layer size is 0.9204878048780488\n"
          ]
        }
      ]
    },
    {
      "cell_type": "code",
      "source": [
        "import pandas as pd\n",
        "from sklearn.neural_network import MLPClassifier\n",
        "from sklearn.model_selection import train_test_split\n",
        "\n",
        "train_data = pd.read_csv(\"retina_data_train.csv\")\n",
        "X_train = train_data.iloc[:,:-1]\n",
        "y_train = train_data.iloc[:,-1]\n",
        "\n",
        "clf = MLPClassifier(hidden_layer_sizes=(3,), max_iter=500)\n",
        "clf.fit(X_train,y_train)\n",
        "\n",
        "test_data = pd.read_csv(\"retina_data_test.csv\")\n",
        "X_test = test_data.iloc[:,:-1]\n",
        "y_test = test_data.iloc[:,-1]\n",
        "\n",
        "num_correct = (clf.predict(X_test) == y_test).sum()\n",
        "acc = num_correct / len(y_test)\n",
        "print(\"The test accuracy after choosing the hidden layer size is \" + str(acc))"
      ],
      "metadata": {
        "colab": {
          "base_uri": "https://localhost:8080/"
        },
        "id": "_nd952XiZpOK",
        "outputId": "9ddfc9db-9a28-4e55-d47f-1dc479ab203e"
      },
      "execution_count": null,
      "outputs": [
        {
          "output_type": "stream",
          "name": "stdout",
          "text": [
            "The test accuracy after choosing the hidden layer size is 0.941728064300067%\n"
          ]
        }
      ]
    }
  ]
}